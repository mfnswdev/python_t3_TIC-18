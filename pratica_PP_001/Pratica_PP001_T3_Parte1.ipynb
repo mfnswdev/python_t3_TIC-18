{
 "cells": [
  {
   "cell_type": "markdown",
   "metadata": {},
   "source": [
    "### Questão 2. Manipulação de variáveis de tipo inteiro, explorando as características e os limites.\n",
    "\n",
    "Operadores Aritméticos em Python: Uma Visão Detalhada\n",
    "\n",
    "Em Python, os operadores aritméticos básicos desempenham funções fundamentais na manipulação de valores. Aqui estão os principais operadores e suas funcionalidades:\n",
    "    Adição (+): Realiza a soma de dois valores.\n",
    "    Subtração (-): Realiza a subtração de dois valores.\n",
    "    Multiplicação (*): Realiza a multiplicação de dois valores.\n",
    "    Divisão (/): Realiza a divisão de dois valores, retornando um número de ponto flutuante.\n",
    "    Divisão Inteira (//): Realiza a divisão de dois valores, retornando um número inteiro.\n",
    "    Módulo/Resto (%): Retorna o resto da divisão entre dois valores.\n",
    "    Exponenciação (**): Realiza a potenciação de um valor pelo outro.\n",
    "\n",
    "Além desses operadores básicos, Python oferece operadores aritméticos compostos, combinando operações aritméticas com atribuições:\n",
    "    Adição e Atribuição (+=): Incrementa o valor da variável com o valor especificado.\n",
    "    Subtração e Atribuição (-=): Decrementa o valor da variável com o valor especificado.\n",
    "    Multiplicação e Atribuição (*=): Multiplica o valor da variável pelo valor especificado.\n",
    "    Divisão e Atribuição (/=): Divide o valor da variável pelo valor especificado.\n",
    "    Divisão Inteira e Atribuição (//=): Divide o valor da variável pelo valor especificado, arredondando para baixo.\n",
    "    Módulo/Resto e Atribuição (%=): Retorna o resto da divisão entre o valor da variável e o valor especificado.\n",
    "    Exponenciação e Atribuição (**=): Eleva o valor da variável à potência do valor especificado.\n",
    "\n",
    "Diferenças Notáveis com C/C++:\n",
    "    Em Python, o operador / sempre retorna um número de ponto flutuante, mesmo para divisão entre inteiros. Em C/C++, a divisão entre inteiros resulta em um número inteiro.\n",
    "    O operador // em Python realiza divisão inteira, retornando um número inteiro arredondado para baixo. Em C/C++, / é usado para divisão inteira, e % para o resto.\n",
    "    Python utiliza ** para exponenciação, enquanto em C/C++ é necessário usar funções de bibliotecas, como pow().\n",
    "\n",
    "Essas são algumas das diferenças-chave entre os operadores aritméticos em Python e em C/C++. Essa compreensão é essencial ao migrar ou comparar códigos entre essas linguagens."
   ]
  },
  {
   "cell_type": "code",
   "execution_count": null,
   "metadata": {},
   "outputs": [],
   "source": [
    "# Operador de Adição:\n",
    "print(\"Demonstrando operador de adição\")\n",
    "a = 2\n",
    "b = 3\n",
    "resultado = a + b\n",
    "print(f\"Valores {a} e {b}\")\n",
    "print(f\"A soma éigual à {resultado}\")"
   ]
  },
  {
   "cell_type": "code",
   "execution_count": null,
   "metadata": {},
   "outputs": [],
   "source": [
    "# Operador de Subtração:\n",
    "print(\"Demonstrando operador de subtração\")\n",
    "a = 2\n",
    "b = 3\n",
    "resultado = a - b\n",
    "print(f\"Valores {a} e {b}\")\n",
    "print(f\"A subtração é igual à {resultado}\")"
   ]
  },
  {
   "cell_type": "code",
   "execution_count": null,
   "metadata": {},
   "outputs": [],
   "source": [
    "# Operador de Multiplicação:\n",
    "print(\"Demonstrando operador de multiplicação\")\n",
    "a = 2\n",
    "b = 3\n",
    "resultado = a * b\n",
    "print(f\"Valores {a} e {b}\")\n",
    "print(f\"A multiplicação é igual à {resultado}\")"
   ]
  },
  {
   "cell_type": "code",
   "execution_count": null,
   "metadata": {},
   "outputs": [],
   "source": [
    "# Operador de Divisão:\n",
    "print(\"Demonstrando operador de divisão\")\n",
    "a = 2\n",
    "b = 4\n",
    "if b == 0 :\n",
    "     print(\"A divisão por 0 é impossível\")\n",
    "else :\n",
    "    resultado1 = a / b\n",
    "    resultado2 = a // b\n",
    "    print(f\"Valores {a} e {b}\")\n",
    "    print(f\"A divisão é igual à {resultado1}\")\n",
    "    print (f\"E a divisão truncada é igual à {resultado2}\") "
   ]
  },
  {
   "cell_type": "code",
   "execution_count": null,
   "metadata": {},
   "outputs": [],
   "source": [
    "# Demonstração de operador Módulo/Resto:\n",
    "a = 5\n",
    "b = 3\n",
    "resultado = a % b\n",
    "print(f\"{a} % {b} = {resultado}\") "
   ]
  },
  {
   "cell_type": "code",
   "execution_count": null,
   "metadata": {},
   "outputs": [],
   "source": [
    "# Demonstração de operador Exponenciação:\n",
    "a = 5\n",
    "b = 3\n",
    "resultado = a ** b\n",
    "print(f\"{a} ** {b} = {resultado}\")"
   ]
  },
  {
   "cell_type": "code",
   "execution_count": null,
   "metadata": {},
   "outputs": [],
   "source": [
    "# Demonstração de operador Adição e atribuição:\n",
    "a = 5\n",
    "b = 3\n",
    "a += b\n",
    "print(f\"a += {b} => a = {a}\")"
   ]
  },
  {
   "cell_type": "code",
   "execution_count": null,
   "metadata": {},
   "outputs": [],
   "source": [
    "# Demonstração de operador Subtração e atribuição:\n",
    "a = 5\n",
    "b = 3\n",
    "a -= b\n",
    "print(f\"a -= {b} => a = {a}\") \n",
    "\n"
   ]
  },
  {
   "cell_type": "code",
   "execution_count": null,
   "metadata": {},
   "outputs": [],
   "source": [
    "# Demonstração de operador de Multiplicação e atribuição:\n",
    "a = 5\n",
    "b = 3\n",
    "a *= b\n",
    "print(f\"a *= {b} => a = {a}\") "
   ]
  },
  {
   "cell_type": "code",
   "execution_count": null,
   "metadata": {},
   "outputs": [],
   "source": [
    "# Demonstração de operador de Divisão e atribuição:\n",
    "a = 5\n",
    "b = 3\n",
    "a /= b\n",
    "print(f\"a /= {b} => a = {a}\")"
   ]
  },
  {
   "cell_type": "code",
   "execution_count": null,
   "metadata": {},
   "outputs": [],
   "source": [
    "# Demonstração de operador de Divisão inteira e atribuição:\n",
    "a = 5\n",
    "b = 3\n",
    "a //= b\n",
    "print(f\"a //= {b} => a = {a}\")\n",
    "\n"
   ]
  },
  {
   "cell_type": "code",
   "execution_count": null,
   "metadata": {},
   "outputs": [],
   "source": [
    "# Demonstração de operador Módulo/Resto e atribuição:\n",
    "a = 5\n",
    "b = 3\n",
    "a %= b\n",
    "print(f\"a %= {b} => a = {a}\") "
   ]
  },
  {
   "cell_type": "code",
   "execution_count": null,
   "metadata": {},
   "outputs": [],
   "source": [
    "# Demonstração de operador de Exponenciação e atribuição:\n",
    "a = 5\n",
    "b = 3\n",
    "a **= b\n",
    "print(f\"a **= {b} => a = {a}\\n\\n\") "
   ]
  },
  {
   "cell_type": "code",
   "execution_count": null,
   "metadata": {},
   "outputs": [],
   "source": [
    "# Demonstração de calculo fatorial. Fatorando o número 30:\n",
    "def fatorial(n):\n",
    "    resultado = 1\n",
    "    for i in range(1, n + 1):\n",
    "        resultado *= i\n",
    "    return resultado\n",
    "\n",
    "numero = 30\n",
    "resultado_fatorial = fatorial(numero)\n",
    "print(f\"O fatorial de {numero} é {resultado_fatorial}\")\n",
    "\n",
    "# Maior valor inteiro representável em C/C++\n",
    "max_int_c_cpp = 2**31 - 1\n",
    "print(f'O maior valor inteiro representável em C/C++ é: {max_int_c_cpp}\\n\\n')"
   ]
  },
  {
   "cell_type": "code",
   "execution_count": null,
   "metadata": {},
   "outputs": [],
   "source": [
    "# Demonstração variáveis (numéricas) imutáveis:\n",
    "\n",
    "a = 10\n",
    "b = a\n",
    "print(f\"Os valores das variáveis 'a' e 'b' são, respectivamente, {a} e {b}\")\n",
    "# Alterando valor de 'b' e verificando efeito sobre 'a'\n",
    "b = 15\n",
    "print(f\"Após tentativa de alteração, os valores de 'a' e 'b' são, respectivamente, {a} e {b}\")\n",
    "\n",
    "# Demonstração variáveis (listas) mutáveis:\n",
    "\n",
    "lista_a = [1, 2, 3]\n",
    "lista_b = lista_a\n",
    "print(f\"\\nAs listas Lista_A e Lista_B são respectivamente {lista_a} e {lista_b}\")\n",
    "# Alterando valor de 'lista_b' e verificando efeito sobre 'lista_a'\n",
    "lista_b[0] = 99\n",
    "print(f\"Após alteração na lista B, os valores de Lista_A e Lista_B são respectivamente {lista_a} e {lista_b}\")\n",
    "\n"
   ]
  },
  {
   "cell_type": "markdown",
   "metadata": {},
   "source": [
    "Alguns métodos incorporados específicos de objetos int em Python, são:\n",
    "- bit_length(): Retorna o número de bits necessários para representar o número binário, excluindo o sinal e os zeros à esquerda.\n",
    "- to_bytes(length, byteorder, *, signed=False): Converte o número para uma sequência de bytes.\n",
    "- from_bytes(bytes, byteorder, *, signed=False): Converte uma sequência de bytes de volta para um número.\n",
    "- Além destes, pode-se obter mais informações utilizando o comando abaixo no terminal:\n",
    "\n",
    "~~~python    \n",
    "python -c \"help(int)\"\n",
    "~~~"
   ]
  },
  {
   "cell_type": "code",
   "execution_count": null,
   "metadata": {},
   "outputs": [],
   "source": [
    "#Usando função dir para obter atributos e métodos de um objeto:\n",
    "print(\"A lista de atributos de métodos para tipo inteiro: \")\n",
    "dir(int)"
   ]
  },
  {
   "cell_type": "markdown",
   "metadata": {},
   "source": [
    "### Questão 3. Escreva um programa em Python que: \n",
    "- Imprima na tela, utilizando print, cada um dos caracteres numéricos e seu correspondente código numérico. Pesquise como modificar o comportamento  do print para imprimir como caractere e como número.\n",
    "Exemplo:‘0’ - 48\n",
    "‘1’ - 49\n",
    "    …\n",
    "‘9’ - 57\n",
    "- Modifique o exercício anterior para que a saída imprima também o código numérico em octal e em hexadecimal.\n",
    "- Acrescente ao código do exercício anterior a possibilidade de ler um caractere qualquer e imprima no mesmo formato do inciso anterior.\n",
    "- Pesquise como ler um valor da entrada padrão.\n",
    "- Pesquise como trabalha Python os caracteres especiais, ‘ç’ e ‘ã’ por exemplo. Acrescente no código do exercício anterior um exemplo que demonstra como usar este recurso."
   ]
  },
  {
   "cell_type": "code",
   "execution_count": null,
   "metadata": {},
   "outputs": [],
   "source": [
    "#Demonstração\n",
    "\n",
    "def print_numeric_characters():\n",
    "    for i in range(10):\n",
    "        char = str(i)\n",
    "        print(f\"'{char}' - {ord(char)}\")\n",
    "        print(f\"   Octal: {oct(ord(char))}\")\n",
    "        print(f\"   Hexadecimal: {hex(ord(char))}\")\n",
    "        print()\n",
    "\n",
    "def print_custom_character(char):\n",
    "    print(f\"'{char}' - {ord(char)}\")\n",
    "    print(f\"   Octal: {oct(ord(char))}\")\n",
    "    print(f\"   Hexadecimal: {hex(ord(char))}\")\n",
    "    \n",
    "def main():\n",
    "    print(\"Imprimindo caracteres numéricos:\")\n",
    "    print_numeric_characters()\n",
    "\n",
    "    user_input = input(\"\\nDigite um caractere: \")\n",
    "    print(\"\\nImprimindo o caractere digitado:\")\n",
    "    print_custom_character(user_input)\n",
    "\n",
    "if __name__ == \"__main__\":\n",
    "    main()\n",
    "\n"
   ]
  },
  {
   "cell_type": "code",
   "execution_count": null,
   "metadata": {},
   "outputs": [],
   "source": [
    "def print_custom_character(char):\n",
    "    print(f\"'{char}' - {ord(char)}\")\n",
    "    print(f\"   Octal: {oct(ord(char))}\")\n",
    "    print(f\"   Hexadecimal: {hex(ord(char))}\")\n",
    "    \n",
    "def main():\n",
    "    # Exemplo de caracteres especiais\n",
    "    special_char1 = 'ç'\n",
    "    special_char2 = 'ã'\n",
    "    print(\"\\nExemplo de caracteres especiais:\")\n",
    "    print_custom_character(special_char1)\n",
    "    print_custom_character(special_char2)\n",
    "\n",
    "if __name__ == \"__main__\":\n",
    "    main()"
   ]
  }
 ],
 "metadata": {
  "kernelspec": {
   "display_name": "Python 3",
   "language": "python",
   "name": "python3"
  },
  "language_info": {
   "codemirror_mode": {
    "name": "ipython",
    "version": 3
   },
   "file_extension": ".py",
   "mimetype": "text/x-python",
   "name": "python",
   "nbconvert_exporter": "python",
   "pygments_lexer": "ipython3",
   "version": "3.11.6"
  }
 },
 "nbformat": 4,
 "nbformat_minor": 2
}

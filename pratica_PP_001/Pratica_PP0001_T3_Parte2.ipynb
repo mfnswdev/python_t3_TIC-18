{
 "cells": [
  {
   "cell_type": "markdown",
   "metadata": {},
   "source": [
    "### Questão 4. Crie um exemplo onde:\n",
    "- Declare uma variável nome atribuindo a ela seu nome completo;\n",
    "- Pesquise por funcionalidades já implementadas nas strings e separeem duas variáveis novas seu nome do seu sobrenome;\n",
    "- Verifique qual das duas novas variáveis antecede a outra na ordemalfabética;\n",
    "- Verifique a quantidade de caracteres de cada uma das novas variáveis;\n",
    "- Verifique se seu nome é uma palíndromo;"
   ]
  },
  {
   "cell_type": "code",
   "execution_count": null,
   "metadata": {},
   "outputs": [],
   "source": [
    "def manipulaString(nome_completo):\n",
    "    # Pesquise por funcionalidades já implementadas nas strings\n",
    "    # e separe em duas variáveis novas seu nome do seu sobrenome\n",
    "    nome, sobrenome = nome_completo.split(maxsplit=1)\n",
    "\n",
    "    # Verifique qual das duas novas variáveis antecede a outra na ordem alfabética\n",
    "    if nome < sobrenome:\n",
    "        print(f\"{nome} antecede {sobrenome} na ordem alfabética.\")\n",
    "    else:\n",
    "        print(f\"{sobrenome} antecede {nome} na ordem alfabética.\")\n",
    "\n",
    "    # Verifique a quantidade de caracteres de cada uma das novas variáveis\n",
    "    print(f\"Quantidade de caracteres em 'nome': {len(nome)}\")\n",
    "    print(f\"Quantidade de caracteres em 'sobrenome': {len(sobrenome)}\")\n",
    "\n",
    "    # Verifique se seu nome é uma palíndromo\n",
    "    nome_invertido = nome[::-1]\n",
    "    if nome.lower() == nome_invertido.lower():\n",
    "        print(f\"{nome} é um palíndromo.\")\n",
    "    else:\n",
    "        print(f\"{nome} não é um palíndromo.\")\n",
    "def main():\n",
    "    manipulaString('Matheus Fonseca')\n",
    "\n",
    "if __name__ == \"__main__\":\n",
    "    main()"
   ]
  },
  {
   "cell_type": "markdown",
   "metadata": {},
   "source": [
    "### Questão 5. Manipulação de variáveis de ponto flutuante, explorando as características e os limites. Durante a aula foi apresentado o tipo de dado que permite representar um subconjunto dos números de ponto flutuante. Sobre estes tipos de dados:\n",
    "\n",
    "- Demonstre como funcionam os operadores aritméticos e aritméticos\n",
    "compostos em Python;\n",
    "- Utilizando o operador de exponenciação mostre qual a maior e a menor potência de 2 que pode ser representada com variáveis de ponto flutuante.\n",
    "- As variáveis numéricas são imutáveis. Demonstre com exemplos as implicações desta afirmação;\n",
    "- Verifique quais métodos estão disponíveis para as variáveis de ponto flutuante;"
   ]
  },
  {
   "cell_type": "code",
   "execution_count": 3,
   "metadata": {},
   "outputs": [
    {
     "name": "stdout",
     "output_type": "stream",
     "text": [
      "\n",
      "Operadores aritméticos\n",
      "\n",
      "Soma: 5.140000000000001\n",
      "Subtração: 1.1400000000000001\n",
      "Multiplicação: 6.28\n",
      "Divisão: 1.57\n",
      "Módulo: 1.1400000000000001\n",
      "num1 após incremento: 4.140000000000001\n",
      "num2 elevado ao quadrado: 4.0\n",
      "\n",
      "Operacoes de exponenciacao\n",
      "\n",
      "Maior potência de 2 representável: 8.98846567431158e+307\n",
      "Menor potência de 2 representável: 2.2250738585072014e-308\n",
      "\n",
      "Imutabilidade de variaveis numericas\n",
      "\n",
      "Valor original: 10.0\n",
      "Valor após tentativa de modificação: 10.0\n",
      "\n",
      "Metodos disponíveis para variaveis numericas\n",
      "\n",
      "Valor original: 3.14\n",
      "Parte inteira: 3\n",
      "Arredondamento para duas casas decimais: 3.14\n"
     ]
    }
   ],
   "source": [
    "def operadoresAritimeticos():\n",
    "    print(\"\\nOperadores aritméticos\\n\")\n",
    "    # Declaração de variáveis de ponto flutuante\n",
    "    num1 = 3.14\n",
    "    num2 = 2.0\n",
    "\n",
    "    # Operadores aritméticos\n",
    "    soma = num1 + num2\n",
    "    subtracao = num1 - num2\n",
    "    multiplicacao = num1 * num2\n",
    "    divisao = num1 / num2\n",
    "    modulo = num1 % num2\n",
    "\n",
    "    # Impressão dos resultados\n",
    "    print(f\"Soma: {soma}\")\n",
    "    print(f\"Subtração: {subtracao}\")\n",
    "    print(f\"Multiplicação: {multiplicacao}\")\n",
    "    print(f\"Divisão: {divisao}\")\n",
    "    print(f\"Módulo: {modulo}\")\n",
    "\n",
    "    # Operadores aritméticos compostos\n",
    "    num1 += 1\n",
    "    num2 **= 2\n",
    "\n",
    "    # Impressão dos resultados após os operadores compostos\n",
    "    print(f\"num1 após incremento: {num1}\")\n",
    "    print(f\"num2 elevado ao quadrado: {num2}\")\n",
    "\n",
    "def exponenciacao():\n",
    "    print(\"\\nOperacoes de exponenciacao\\n\")\n",
    "   # Maior potência de 2 representável\n",
    "    maior_potencia = 2.0 ** 1023\n",
    "    print(f\"Maior potência de 2 representável: {maior_potencia}\")\n",
    "\n",
    "    # Menor potência de 2 representável\n",
    "    menor_potencia = 2.0 ** -1022\n",
    "    print(f\"Menor potência de 2 representável: {menor_potencia}\")\n",
    "\n",
    "def imutabilidade_de_variaveis_numericas():\n",
    "    print(\"\\nImutabilidade de variaveis numericas\\n\")\n",
    "    num = 10.0\n",
    "    print(f\"Valor original: {num}\")\n",
    "\n",
    "    # Tentativa de modificar o valor (isso resultará em um erro)\n",
    "    # num += 5  # Remova o comentário desta linha para ver o erro\n",
    "\n",
    "    print(f\"Valor após tentativa de modificação: {num}\")\n",
    "\n",
    "def metodos_disponiveis_para_variaveis_numericas():\n",
    "    print(\"\\nMetodos disponíveis para variaveis numericas\\n\")\n",
    "    num = 3.14\n",
    "\n",
    "    # Métodos disponíveis para variáveis de ponto flutuante\n",
    "    print(f\"Valor original: {num}\")\n",
    "    print(f\"Parte inteira: {num.__int__()}\")\n",
    "    print(f\"Arredondamento para duas casas decimais: {num.__round__(2)}\")\n",
    "\n",
    "\n",
    "def main():\n",
    "    operadoresAritimeticos()\n",
    "    exponenciacao()\n",
    "    imutabilidade_de_variaveis_numericas()\n",
    "    metodos_disponiveis_para_variaveis_numericas()\n",
    "\n",
    "\n",
    "if __name__ == \"__main__\":\n",
    "    main()"
   ]
  },
  {
   "cell_type": "markdown",
   "metadata": {},
   "source": [
    "### Questão 6. Manipulando listas\n",
    "- Descubra qual o signo de um usuário de acordo com seu ano de nascimento.\n"
   ]
  },
  {
   "cell_type": "code",
   "execution_count": 4,
   "metadata": {},
   "outputs": [
    {
     "name": "stdout",
     "output_type": "stream",
     "text": [
      "Signo:  Cão\n"
     ]
    }
   ],
   "source": [
    "def chines_zodiaco_by_year(ano_nascimento):\n",
    "    lista_de_siginos= [\n",
    "        \"Macaco\",\n",
    "        \"Galo\",\n",
    "        \"Cão\",\n",
    "        \"Porco\",\n",
    "        \"Rato\",\n",
    "        \"Boi\",\n",
    "        \"Tigre\",\n",
    "        \"Coelho\",\n",
    "        \"Dragão\",\n",
    "        \"Serpente\",\n",
    "        \"Cavalo\",\n",
    "        \"Carneiro\",\n",
    "    ]\n",
    "\n",
    "    return lista_de_siginos[ano_nascimento % 12]\n",
    "\n",
    "def main():\n",
    "    print(\"Signo: \", chines_zodiaco_by_year(1994))\n",
    "\n",
    "\n",
    "if __name__ == \"__main__\":\n",
    "    main()"
   ]
  }
 ],
 "metadata": {
  "kernelspec": {
   "display_name": "Python 3",
   "language": "python",
   "name": "python3"
  },
  "language_info": {
   "codemirror_mode": {
    "name": "ipython",
    "version": 3
   },
   "file_extension": ".py",
   "mimetype": "text/x-python",
   "name": "python",
   "nbconvert_exporter": "python",
   "pygments_lexer": "ipython3",
   "version": "3.11.6"
  }
 },
 "nbformat": 4,
 "nbformat_minor": 2
}
